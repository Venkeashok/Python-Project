{
 "cells": [
  {
   "cell_type": "markdown",
   "metadata": {},
   "source": [
    "# Courier Management Service"
   ]
  },
  {
   "cell_type": "markdown",
   "metadata": {},
   "source": [
    "Q1. Create a Dictionary of lists to store the information of shipments given in the table\n",
    "--"
   ]
  },
  {
   "cell_type": "code",
   "execution_count": 2,
   "metadata": {},
   "outputs": [],
   "source": [
    "import numpy as pd"
   ]
  },
  {
   "cell_type": "code",
   "execution_count": 3,
   "metadata": {},
   "outputs": [
    {
     "data": {
      "text/plain": [
       "[101, 102, 103, 104, 105, 106]"
      ]
     },
     "execution_count": 3,
     "metadata": {},
     "output_type": "execute_result"
    }
   ],
   "source": [
    "shipment_id=[i for i in range(101,107)]\n",
    "shipment_id"
   ]
  },
  {
   "cell_type": "code",
   "execution_count": 4,
   "metadata": {},
   "outputs": [],
   "source": [
    "sender_id={101:1,102:4,103:2,104:1,105:3,106:5}"
   ]
  },
  {
   "cell_type": "code",
   "execution_count": 5,
   "metadata": {},
   "outputs": [
    {
     "data": {
      "text/plain": [
       "{101: 3, 102: 1, 103: 3, 104: 5, 105: 4, 106: 2}"
      ]
     },
     "execution_count": 5,
     "metadata": {},
     "output_type": "execute_result"
    }
   ],
   "source": [
    "receiver=[3,1,3,5,4,2]\n",
    "receiver_id={101:3,102:1,103:3,104:5,105:4,106:2}\n",
    "receiver_id"
   ]
  },
  {
   "cell_type": "code",
   "execution_count": 7,
   "metadata": {},
   "outputs": [
    {
     "data": {
      "text/plain": [
       "<module 'datetime' from 'C:\\\\ProgramData\\\\Anaconda3\\\\lib\\\\datetime.py'>"
      ]
     },
     "execution_count": 7,
     "metadata": {},
     "output_type": "execute_result"
    }
   ],
   "source": [
    "import datetime\n",
    "datetime"
   ]
  },
  {
   "cell_type": "code",
   "execution_count": 8,
   "metadata": {},
   "outputs": [],
   "source": [
    "start_date={101:'14-03-2020',102:'18-06-2020',103:'01-12-2020',104:'23-06-2020',105:'29-08-2020',106:'28-06-2020'}"
   ]
  },
  {
   "cell_type": "code",
   "execution_count": 9,
   "metadata": {},
   "outputs": [
    {
     "data": {
      "text/plain": [
       "{101: '14-03-2020',\n",
       " 102: '18-06-2020',\n",
       " 103: '01-12-2020',\n",
       " 104: '23-06-2020',\n",
       " 105: '29-08-2020',\n",
       " 106: '28-06-2020'}"
      ]
     },
     "execution_count": 9,
     "metadata": {},
     "output_type": "execute_result"
    }
   ],
   "source": [
    "start_date"
   ]
  },
  {
   "cell_type": "code",
   "execution_count": 10,
   "metadata": {},
   "outputs": [
    {
     "data": {
      "text/plain": [
       "{101: '25-03-2020',\n",
       " 102: '09-07-2020',\n",
       " 103: '00-00-0000',\n",
       " 104: '25-06-2020',\n",
       " 105: '10-09-2020',\n",
       " 106: '00-00-0000'}"
      ]
     },
     "execution_count": 10,
     "metadata": {},
     "output_type": "execute_result"
    }
   ],
   "source": [
    "delivery_date={101:'25-03-2020',102:'09-07-2020',103:'00-00-0000',104:'25-06-2020',105:'10-09-2020',106:'00-00-0000'}\n",
    "delivery_date"
   ]
  },
  {
   "cell_type": "code",
   "execution_count": 11,
   "metadata": {},
   "outputs": [],
   "source": [
    "sender_loc={101:'Area1',102:'Area2',103:'Area5',104:'Area1',105:'Area5',106:'Area3'}"
   ]
  },
  {
   "cell_type": "code",
   "execution_count": 12,
   "metadata": {},
   "outputs": [],
   "source": [
    "Receiver_loc={101:'Area6',102:'Area4',103:'Area1',104:'Area4',105:'Area3',106:'Area1'}"
   ]
  },
  {
   "cell_type": "code",
   "execution_count": 13,
   "metadata": {},
   "outputs": [],
   "source": [
    "Delivery_status={101:'Delivered',102:'Delivered',103:'In-transit',104:'Delivered',105:'Delivered',106:'In-transit'}"
   ]
  },
  {
   "cell_type": "code",
   "execution_count": 14,
   "metadata": {},
   "outputs": [],
   "source": [
    "Shipment_cost={101:198,102:275,103:200,104:314,105:275,106:270}"
   ]
  },
  {
   "cell_type": "markdown",
   "metadata": {},
   "source": [
    "# Q2.Create a Dictionary to store the information of clients in the given table"
   ]
  },
  {
   "cell_type": "code",
   "execution_count": 15,
   "metadata": {},
   "outputs": [
    {
     "data": {
      "text/plain": [
       "{1: 'Phillip', 2: 'Omega III', 3: 'Ramya', 4: 'Romesh', 5: 'John'}"
      ]
     },
     "execution_count": 15,
     "metadata": {},
     "output_type": "execute_result"
    }
   ],
   "source": [
    "client_id={1:'Phillip',2:'Omega III',3:'Ramya',4:'Romesh',5:'John'}\n",
    "client_id"
   ]
  },
  {
   "cell_type": "markdown",
   "metadata": {},
   "source": [
    "Q3. Write a code to replace client’s id with their respective name in shipment dictionary using a loop and dictionary comprehension\n",
    "--"
   ]
  },
  {
   "cell_type": "code",
   "execution_count": 16,
   "metadata": {},
   "outputs": [],
   "source": [
    "for key,val in receiver_id.items():\n",
    "    for clid_key,clid_val in client_id.items():\n",
    "        if val==clid_key:\n",
    "            receiver_id[key]=client_id[clid_key]\n",
    "            "
   ]
  },
  {
   "cell_type": "code",
   "execution_count": 17,
   "metadata": {},
   "outputs": [
    {
     "data": {
      "text/plain": [
       "{101: 'Ramya',\n",
       " 102: 'Phillip',\n",
       " 103: 'Ramya',\n",
       " 104: 'John',\n",
       " 105: 'Romesh',\n",
       " 106: 'Omega III'}"
      ]
     },
     "execution_count": 17,
     "metadata": {},
     "output_type": "execute_result"
    }
   ],
   "source": [
    "receiver_id"
   ]
  },
  {
   "cell_type": "code",
   "execution_count": 18,
   "metadata": {},
   "outputs": [],
   "source": [
    "for key,val in sender_id.items():\n",
    "    for clid_key,clid_val in client_id.items():\n",
    "        if val==clid_key:\n",
    "            sender_id[key]=client_id[clid_key]\n",
    "            "
   ]
  },
  {
   "cell_type": "code",
   "execution_count": 19,
   "metadata": {},
   "outputs": [
    {
     "data": {
      "text/plain": [
       "{101: 'Phillip',\n",
       " 102: 'Romesh',\n",
       " 103: 'Omega III',\n",
       " 104: 'Phillip',\n",
       " 105: 'Ramya',\n",
       " 106: 'John'}"
      ]
     },
     "execution_count": 19,
     "metadata": {},
     "output_type": "execute_result"
    }
   ],
   "source": [
    "sender_id"
   ]
  },
  {
   "cell_type": "markdown",
   "metadata": {},
   "source": [
    "# Q4.Print all shipment details that are sent by Philip"
   ]
  },
  {
   "cell_type": "code",
   "execution_count": 20,
   "metadata": {},
   "outputs": [
    {
     "name": "stdout",
     "output_type": "stream",
     "text": [
      "101\n",
      "104\n"
     ]
    }
   ],
   "source": [
    "for k,v in sender_id.items():\n",
    "    if v=='Phillip':\n",
    "        print(k)"
   ]
  },
  {
   "cell_type": "markdown",
   "metadata": {},
   "source": [
    "# Q5. Print all shipment details that are received by Ramya"
   ]
  },
  {
   "cell_type": "code",
   "execution_count": 21,
   "metadata": {},
   "outputs": [
    {
     "data": {
      "text/plain": [
       "{101: 'Ramya', 103: 'Ramya'}"
      ]
     },
     "execution_count": 21,
     "metadata": {},
     "output_type": "execute_result"
    }
   ],
   "source": [
    "{k:v for (k,v) in receiver_id.items() if v=='Ramya'}"
   ]
  },
  {
   "cell_type": "markdown",
   "metadata": {},
   "source": [
    "# Q6.Print all shipments which are \"In-Transit\" Status"
   ]
  },
  {
   "cell_type": "code",
   "execution_count": 22,
   "metadata": {},
   "outputs": [
    {
     "data": {
      "text/plain": [
       "{103: 'In-transit', 106: 'In-transit'}"
      ]
     },
     "execution_count": 22,
     "metadata": {},
     "output_type": "execute_result"
    }
   ],
   "source": [
    "{k:v for (k,v) in Delivery_status.items() if v=='In-transit'}"
   ]
  },
  {
   "cell_type": "markdown",
   "metadata": {},
   "source": [
    "# Q7.Print all shipments which are delivered within 7 days of courier start date."
   ]
  },
  {
   "cell_type": "code",
   "execution_count": 23,
   "metadata": {},
   "outputs": [
    {
     "data": {
      "text/plain": [
       "{101: '14-03-2020',\n",
       " 102: '18-06-2020',\n",
       " 103: '01-12-2020',\n",
       " 104: '23-06-2020',\n",
       " 105: '29-08-2020',\n",
       " 106: '28-06-2020'}"
      ]
     },
     "execution_count": 23,
     "metadata": {},
     "output_type": "execute_result"
    }
   ],
   "source": [
    "start_date\n",
    "#delivery_date"
   ]
  },
  {
   "cell_type": "code",
   "execution_count": 24,
   "metadata": {},
   "outputs": [
    {
     "data": {
      "text/plain": [
       "datetime.datetime(2020, 3, 14, 0, 0)"
      ]
     },
     "execution_count": 24,
     "metadata": {},
     "output_type": "execute_result"
    }
   ],
   "source": [
    "datetime.datetime.strptime('14-03-2020','%d-%m-%Y')"
   ]
  },
  {
   "cell_type": "code",
   "execution_count": 25,
   "metadata": {},
   "outputs": [
    {
     "data": {
      "text/plain": [
       "{101: '14-03-2020',\n",
       " 102: '18-06-2020',\n",
       " 103: '01-12-2020',\n",
       " 104: '23-06-2020',\n",
       " 105: '29-08-2020',\n",
       " 106: '28-06-2020'}"
      ]
     },
     "execution_count": 25,
     "metadata": {},
     "output_type": "execute_result"
    }
   ],
   "source": [
    "start_date"
   ]
  },
  {
   "cell_type": "code",
   "execution_count": 26,
   "metadata": {},
   "outputs": [],
   "source": [
    "for k_st,v_st in start_date.items():\n",
    "    start_date[k_st]=datetime.datetime.strptime(start_date[k_st],'%d-%m-%Y')\n",
    "    "
   ]
  },
  {
   "cell_type": "code",
   "execution_count": 27,
   "metadata": {},
   "outputs": [],
   "source": [
    "for k_dl,v_dl in delivery_date.items():\n",
    "    if v_dl!='00-00-0000':\n",
    "        delivery_date[k_dl]=datetime.datetime.strptime(delivery_date[k_dl],'%d-%m-%Y')\n",
    "    "
   ]
  },
  {
   "cell_type": "code",
   "execution_count": 28,
   "metadata": {},
   "outputs": [
    {
     "data": {
      "text/plain": [
       "{101: datetime.datetime(2020, 3, 25, 0, 0),\n",
       " 102: datetime.datetime(2020, 7, 9, 0, 0),\n",
       " 103: '00-00-0000',\n",
       " 104: datetime.datetime(2020, 6, 25, 0, 0),\n",
       " 105: datetime.datetime(2020, 9, 10, 0, 0),\n",
       " 106: '00-00-0000'}"
      ]
     },
     "execution_count": 28,
     "metadata": {},
     "output_type": "execute_result"
    }
   ],
   "source": [
    "delivery_date"
   ]
  },
  {
   "cell_type": "code",
   "execution_count": 29,
   "metadata": {},
   "outputs": [
    {
     "data": {
      "text/plain": [
       "{101: datetime.datetime(2020, 3, 14, 0, 0),\n",
       " 102: datetime.datetime(2020, 6, 18, 0, 0),\n",
       " 103: datetime.datetime(2020, 12, 1, 0, 0),\n",
       " 104: datetime.datetime(2020, 6, 23, 0, 0),\n",
       " 105: datetime.datetime(2020, 8, 29, 0, 0),\n",
       " 106: datetime.datetime(2020, 6, 28, 0, 0)}"
      ]
     },
     "execution_count": 29,
     "metadata": {},
     "output_type": "execute_result"
    }
   ],
   "source": [
    "start_date"
   ]
  },
  {
   "cell_type": "code",
   "execution_count": 30,
   "metadata": {},
   "outputs": [
    {
     "data": {
      "text/plain": [
       "{101: datetime.datetime(2020, 3, 25, 0, 0),\n",
       " 102: datetime.datetime(2020, 7, 9, 0, 0),\n",
       " 103: '00-00-0000',\n",
       " 104: datetime.datetime(2020, 6, 25, 0, 0),\n",
       " 105: datetime.datetime(2020, 9, 10, 0, 0),\n",
       " 106: '00-00-0000'}"
      ]
     },
     "execution_count": 30,
     "metadata": {},
     "output_type": "execute_result"
    }
   ],
   "source": [
    "delivery_date"
   ]
  },
  {
   "cell_type": "code",
   "execution_count": 31,
   "metadata": {},
   "outputs": [
    {
     "name": "stdout",
     "output_type": "stream",
     "text": [
      "shipment number is : 104   Number of days : 2\n"
     ]
    }
   ],
   "source": [
    "for k_s,v_s in start_date.items():\n",
    "    for k_d,v_d in delivery_date.items():\n",
    "        if(k_s==k_d) and (v_d!='00-00-0000') and ((v_d-v_s).days<7):\n",
    "            print('shipment number is :',k_s,'  Number of days :',(v_d-v_s).days)"
   ]
  },
  {
   "cell_type": "markdown",
   "metadata": {},
   "source": [
    "Q8. Print all shipments which are delivered after 15 days of courier start date or not yet been delivered.\n",
    "--"
   ]
  },
  {
   "cell_type": "code",
   "execution_count": 32,
   "metadata": {},
   "outputs": [
    {
     "name": "stdout",
     "output_type": "stream",
     "text": [
      "shipment number is : 103 Not yet devlivered\n",
      "shipment number is : 106 Not yet devlivered\n",
      "shipment number is : 102   Number of days : 21\n"
     ]
    }
   ],
   "source": [
    "for k_s,v_s in start_date.items():\n",
    "    for k_d,v_d in delivery_date.items():\n",
    "        if (k_s==k_d) and (v_d=='00-00-0000') :\n",
    "            print('shipment number is :',k_s,'Not yet devlivered')\n",
    "\n",
    "for k_s,v_s in start_date.items():\n",
    "    for k_d,v_d in delivery_date.items():\n",
    "        if(k_s==k_d) and (v_d!='00-00-0000') and ((v_d-v_s).days>15):\n",
    "            print('shipment number is :',k_s,'  Number of days :',(v_d-v_s).days)"
   ]
  },
  {
   "cell_type": "markdown",
   "metadata": {},
   "source": [
    "# Q9.Write a function to find all routes to display all possible routes from senders location to receiver locations given in the dictionary for each statement."
   ]
  },
  {
   "cell_type": "code",
   "execution_count": 44,
   "metadata": {},
   "outputs": [],
   "source": [
    "def find_all_routes(matrix,u,d,visited,path):\n",
    "    visited[u]=True\n",
    "    path.append(u+1)\n",
    "    if u == d:\n",
    "        print(path)\n",
    "    else:\n",
    "        \n",
    "        for i in range(6):\n",
    "            if matrix[u][i] == 1 and (visited[i]==False):\n",
    "                find_all_routes(matrix,i,d,visited,path)\n",
    "                       \n",
    "    path.pop()\n",
    "    visited[u]=False\n",
    "    \n",
    "matrix = [[0,1,0,0,0,1],[1,0,1,1,0,0],[0,1,0,1,0,0],[0,1,1,0,1,0],[0,0,0,1,0,0],[1,0,0,0,0,0]]\n",
    "visited=[False for i in range (6)]\n",
    "path=[]"
   ]
  },
  {
   "cell_type": "code",
   "execution_count": null,
   "metadata": {},
   "outputs": [],
   "source": [
    "def Show_all(sender_loc):\n",
    "    for i in sender_loc:\n",
    "        print(\"Shipment ID:\",i)\n",
    "        s = int('sender_loc'[i][4][-1])\n",
    "        print(\"Senders's Location\" , s)\n",
    "        r = int('sender_loc'[i][5][-1])\n",
    "        print(\"Receiver's Location\",r)\n",
    "        print('All possible routes:')\n",
    "        find_all_routes(matrix,s-1,r-1,visited,path)\n",
    "        print('------------------------------')\n",
    "        \n",
    "        \n",
    "Show_all(sender_loc)"
   ]
  }
 ],
 "metadata": {
  "kernelspec": {
   "display_name": "Python 3 (ipykernel)",
   "language": "python",
   "name": "python3"
  },
  "language_info": {
   "codemirror_mode": {
    "name": "ipython",
    "version": 3
   },
   "file_extension": ".py",
   "mimetype": "text/x-python",
   "name": "python",
   "nbconvert_exporter": "python",
   "pygments_lexer": "ipython3",
   "version": "3.9.7"
  }
 },
 "nbformat": 4,
 "nbformat_minor": 4
}
